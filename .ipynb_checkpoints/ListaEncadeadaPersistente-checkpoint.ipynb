{
 "cells": [
  {
   "cell_type": "code",
   "execution_count": null,
   "metadata": {},
   "outputs": [],
   "source": [
    "import this"
   ]
  },
  {
   "cell_type": "code",
   "execution_count": null,
   "metadata": {},
   "outputs": [],
   "source": [
    "#Quebra de linha com python\n",
    "\n",
    "lista = ['a','b','c',\n",
    "        'd','e']\n",
    "lista"
   ]
  },
  {
   "cell_type": "code",
   "execution_count": null,
   "metadata": {},
   "outputs": [],
   "source": [
    "a = True\n",
    "\n",
    "valor = 5 if a else 6\n",
    "valor"
   ]
  },
  {
   "cell_type": "code",
   "execution_count": null,
   "metadata": {},
   "outputs": [],
   "source": [
    "print('int(3.4): ', int(3.4))"
   ]
  },
  {
   "cell_type": "code",
   "execution_count": null,
   "metadata": {},
   "outputs": [],
   "source": [
    "#11 & 10 = 110\n",
    "help('modules')"
   ]
  },
  {
   "cell_type": "code",
   "execution_count": null,
   "metadata": {},
   "outputs": [],
   "source": [
    "print(\"Agora são %d:%d\" %(16,30))"
   ]
  },
  {
   "cell_type": "code",
   "execution_count": null,
   "metadata": {},
   "outputs": [],
   "source": [
    "import string\n",
    "\n",
    "a = string.ascii_lowercase\n",
    "\n",
    "b = a[1:] + a[0]\n",
    "\n",
    "b"
   ]
  },
  {
   "cell_type": "code",
   "execution_count": null,
   "metadata": {},
   "outputs": [],
   "source": [
    "#Matrix de criptografia de César\n",
    "import string \n",
    "\n",
    "\n",
    "def cria_tabela_cripto():\n",
    "    alfabeto = string.ascii_lowercase\n",
    "    matrix_cripto = []\n",
    "\n",
    "    for i in range(len(alfabeto)):\n",
    "        alf_desloca = alfabeto[i:] + alfabeto[:i]\n",
    "        matrix_cripto.append(alf_desloca)\n",
    "    \n",
    "    return matrix_cripto"
   ]
  },
  {
   "cell_type": "code",
   "execution_count": null,
   "metadata": {},
   "outputs": [],
   "source": [
    "%time cria_tabela_cripto()"
   ]
  },
  {
   "cell_type": "code",
   "execution_count": null,
   "metadata": {},
   "outputs": [],
   "source": [
    "matrix_cripto[5][4]"
   ]
  },
  {
   "cell_type": "code",
   "execution_count": null,
   "metadata": {},
   "outputs": [],
   "source": [
    "entrada = str(input()).lower()\n",
    "chave = 'gemp'\n",
    "matrix_cripto = cria_tabela_cripto()\n",
    "\n",
    "j = 0\n",
    "cripto = []\n",
    "for i in range(len(entrada)):\n",
    "    linha = string.ascii_lowercase.index(entrada[i])\n",
    "    coluna = string.ascii_lowercase.index(chave[j])\n",
    "   \n",
    "    if chave[j] == chave[-1:]:\n",
    "        j = 0\n",
    "    else:\n",
    "        j += 1\n",
    "    \n",
    "    cripto.append(matrix_cripto[linha][coluna])\n",
    "\n",
    "print(''.join(cripto))\n",
    "\n",
    "#tabela = [str.maketrans(entrada, 'GEMP')]"
   ]
  },
  {
   "cell_type": "code",
   "execution_count": null,
   "metadata": {},
   "outputs": [],
   "source": [
    "string.ascii_lowercase.index('s')"
   ]
  },
  {
   "cell_type": "code",
   "execution_count": null,
   "metadata": {},
   "outputs": [],
   "source": [
    "matrix_cripto[14]"
   ]
  },
  {
   "cell_type": "code",
   "execution_count": null,
   "metadata": {},
   "outputs": [],
   "source": [
    "''.join(['a', 'b'])"
   ]
  },
  {
   "cell_type": "code",
   "execution_count": null,
   "metadata": {},
   "outputs": [],
   "source": [
    "t = str.maketrans('b', 'd')\n",
    "t"
   ]
  },
  {
   "cell_type": "code",
   "execution_count": null,
   "metadata": {},
   "outputs": [],
   "source": [
    "\"ba be bi bo bu\".translate(t)"
   ]
  },
  {
   "cell_type": "code",
   "execution_count": 11,
   "metadata": {},
   "outputs": [],
   "source": [
    "class NoLista:\n",
    "    \"\"\"Esta classe representa um nó de uma lista encadeada.\"\"\"\n",
    "    \n",
    "    def __init__(self, valor = 0, proximo = None):\n",
    "        # Campos originais\n",
    "        self.valor    = valor\n",
    "        self.proximo = proximo\n",
    "        \n",
    "        #Campos de manutenção de persistência\n",
    "        self.versao  = []\n",
    "        self.retorno = []\n",
    "\n",
    "    def __repr__(self):\n",
    "        return '%s -> %s' % (self.valor, self.proximo)"
   ]
  },
  {
   "cell_type": "code",
   "execution_count": null,
   "metadata": {},
   "outputs": [],
   "source": [
    "no = NoLista(3)\n",
    "\n",
    "print(no.dado)"
   ]
  },
  {
   "cell_type": "code",
   "execution_count": 50,
   "metadata": {},
   "outputs": [],
   "source": [
    "class ListaEncadeada:\n",
    "    \"\"\"Esta classe representa uma lista encadeada.\"\"\"\n",
    "    \n",
    "    def __init__(self):\n",
    "        self.cabeca = None\n",
    "\n",
    "    def __repr__(self):\n",
    "        return \"[\" + str(self.cabeca) + \"]\"\n",
    "    \n",
    "    def ListaVazia(self):\n",
    "        if self.cabeca is None:\n",
    "            return True\n",
    "        else:\n",
    "            return False\n",
    "    \n",
    "    def Inserir(self, valor):\n",
    "        novo_no = NoLista(valor)\n",
    "        \n",
    "        if not self.ListaVazia():\n",
    "            #Faz busca pelo lugar corretor para inserir o nó\n",
    "            anterior = None\n",
    "            iterador = self.cabeca\n",
    "            while iterador and iterador.valor < valor:\n",
    "                anterior = iterador\n",
    "                iterador = iterador.proximo\n",
    "            \n",
    "            #Caso em que só existe um elemento na lista e é maior que o valor inserido\n",
    "            if anterior is None:\n",
    "                novo_no.proximo  = self.cabeca\n",
    "                self.cabeca = novo_no\n",
    "            \n",
    "            #Caso em que o lugar a se inserir o novo valor é no meio da lista\n",
    "            else:\n",
    "                novo_no.proximo  = iterador\n",
    "                anterior.proximo = novo_no\n",
    "                \n",
    "        else:\n",
    "            novo_no.proximo = self.cabeca\n",
    "            self.cabeca = novo_no\n",
    "            \n",
    "    def Remover(self, valor):\n",
    "        #Se houver algum elemento na lista faz a busca\n",
    "        if not self.ListaVazia():\n",
    "            anterior = None\n",
    "            iterador = self.cabeca\n",
    "            \n",
    "            while iterador.valor != valor:\n",
    "                anterior = iterador\n",
    "                iterador = iterador.proximo\n",
    "                \n",
    "                if iterador is None:\n",
    "                    assert valor, \"não existe na lista\"\n",
    "                    return None\n",
    "                \n",
    "            anterior.proximo = iterador.proximo\n",
    "            \n",
    "            return anterior\n",
    "        \n",
    "        #Caso a lista esteja vazia, retorna Nulo\n",
    "        else:\n",
    "            return None\n",
    "        "
   ]
  },
  {
   "cell_type": "code",
   "execution_count": 53,
   "metadata": {},
   "outputs": [],
   "source": [
    "Lista = ListaEncadeada()\n",
    "\n",
    "f = open('teste.txt', 'r')\n",
    "for linha in f:\n",
    "    op, valor = linha.split(\" \")\n",
    "    \n",
    "    if op == \"INC\":\n",
    "        Lista.Inserir(int(valor))\n",
    "        \n",
    "    elif op == \"REM\":\n",
    "        Lista.Remover(int(valor))\n",
    "    \n",
    "    else:\n",
    "        assert \"Operação inválida\""
   ]
  },
  {
   "cell_type": "code",
   "execution_count": 54,
   "metadata": {},
   "outputs": [
    {
     "data": {
      "text/plain": [
       "[1 -> 3 -> 5 -> 15 -> 20 -> None]"
      ]
     },
     "execution_count": 54,
     "metadata": {},
     "output_type": "execute_result"
    }
   ],
   "source": [
    "Lista"
   ]
  },
  {
   "cell_type": "code",
   "execution_count": null,
   "metadata": {},
   "outputs": [],
   "source": []
  }
 ],
 "metadata": {
  "kernelspec": {
   "display_name": "Python 3",
   "language": "python",
   "name": "python3"
  },
  "language_info": {
   "codemirror_mode": {
    "name": "ipython",
    "version": 3
   },
   "file_extension": ".py",
   "mimetype": "text/x-python",
   "name": "python",
   "nbconvert_exporter": "python",
   "pygments_lexer": "ipython3",
   "version": "3.8.5"
  }
 },
 "nbformat": 4,
 "nbformat_minor": 4
}
